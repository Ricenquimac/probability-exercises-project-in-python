{
 "cells": [
  {
   "cell_type": "markdown",
   "id": "a41f3622",
   "metadata": {},
   "source": [
    "# Probability exercises"
   ]
  },
  {
   "cell_type": "markdown",
   "id": "a6bdbd89",
   "metadata": {},
   "source": [
    "## Exercise 1 \n",
    "\n",
    "Two dices are thrown once and the total score is observed. Use a simulation to find the estimated probability that the total score is even or greater than 7.  A simulation is a repetition of the same experiment multiple times to observe its behavior:\n",
    "\n",
    "- Run the experiment 1000 times (roll 2 dice 1000 times, and sum the number of both dices).\n",
    "- Keep track of the number of times that the sum was either greater than 7 or an even number.\n",
    "- Divide the number from step 2 by the number of iterations (1000)."
   ]
  },
  {
   "cell_type": "code",
   "execution_count": 1,
   "id": "8939d892",
   "metadata": {},
   "outputs": [
    {
     "name": "stdout",
     "output_type": "stream",
     "text": [
      "The Probability is: 0.657\n"
     ]
    }
   ],
   "source": [
    "import numpy as np\n",
    "import pandas as pd\n",
    "import random\n",
    "#Define the experiment\n",
    "n = 1000\n",
    "#Keep track of the throws starting in 0\n",
    "counter = 0\n",
    "\n",
    "#First step\n",
    "for i in range (n):\n",
    "    #Define both dices\n",
    "    dice1 = random.randint(1,6)\n",
    "    dice2 = random.randint(1,6)\n",
    "    \n",
    "    #sum of both dice\n",
    "    sum = dice1 + dice2\n",
    "\n",
    "    #Step2\n",
    "    #Add the conditions\n",
    "    if sum > 7 or (sum % 2 == 0):\n",
    "        #keep track of the times that the conditions are accepted\n",
    "        counter +=1\n",
    "\n",
    "    #Step3\n",
    "    result = counter / n\n",
    "\n",
    "print ( f'The Probability is:', result)\n"
   ]
  },
  {
   "cell_type": "code",
   "execution_count": 4,
   "id": "07023138",
   "metadata": {},
   "outputs": [
    {
     "name": "stdout",
     "output_type": "stream",
     "text": [
      "The Probability is:66.8%\n"
     ]
    }
   ],
   "source": [
    "def dice_simulation(n = 1000):\n",
    "    counter = 0\n",
    "    for i in range (n):\n",
    "    #Define both dices\n",
    "     dice1 = random.randint(1,6)\n",
    "     dice2 = random.randint(1,6)\n",
    "    \n",
    "    #sum of both dice\n",
    "     sum = dice1 + dice2\n",
    "\n",
    "    #Step2\n",
    "    #Add the conditions\n",
    "     if sum > 7 or (sum % 2 == 0):\n",
    "        #keep track of the times that the conditions are accepted\n",
    "        counter +=1\n",
    "        result = counter / n\n",
    "\n",
    "    return result\n",
    "\n",
    "print ( f'The Probability is:{np.round(dice_simulation() * 100, 2)}%')"
   ]
  },
  {
   "cell_type": "markdown",
   "id": "55732bca",
   "metadata": {},
   "source": [
    "## Exercise 2\n",
    "\n",
    "A box contains 10 white balls, 20 red balls and 30 green balls. If we take 5 balls from the box with replacement (we take the ball, observe what color it is and put it back into the box). We want to know the probability of:\n",
    "\n",
    "1. Take 3 white and 2 red.\n",
    "2. Take all of the same color.\n",
    "\n",
    "Run the experiment 1000 times and calculate the above probabilities."
   ]
  },
  {
   "cell_type": "code",
   "execution_count": 18,
   "id": "23244d20",
   "metadata": {},
   "outputs": [
    {
     "name": "stdout",
     "output_type": "stream",
     "text": [
      "{0: 'White', 1: 'White', 2: 'White', 3: 'White', 4: 'White', 5: 'White', 6: 'White', 7: 'White', 8: 'White', 9: 'White', 10: 'Red', 11: 'Red', 12: 'Red', 13: 'Red', 14: 'Red', 15: 'Red', 16: 'Red', 17: 'Red', 18: 'Red', 19: 'Red', 20: 'Red', 21: 'Red', 22: 'Red', 23: 'Red', 24: 'Red', 25: 'Red', 26: 'Red', 27: 'Red', 28: 'Red', 29: 'Red', 30: 'Green', 31: 'Green', 32: 'Green', 33: 'Green', 34: 'Green', 35: 'Green', 36: 'Green', 37: 'Green', 38: 'Green', 39: 'Green', 40: 'Green', 41: 'Green', 42: 'Green', 43: 'Green', 44: 'Green', 45: 'Green', 46: 'Green', 47: 'Green', 48: 'Green', 49: 'Green', 50: 'Green', 51: 'Green', 52: 'Green', 53: 'Green', 54: 'Green', 55: 'Green', 56: 'Green', 57: 'Green', 58: 'Green', 59: 'Green'}\n",
      "The probability of getting 3 white balls and 2 red balls is: 0.7%\n",
      "The probability of getting all the balls of the same color is: 35.0%\n"
     ]
    }
   ],
   "source": [
    "ball_box = {}\n",
    "\n",
    "# Create the box of balls\n",
    "for i in range(60):\n",
    "    if i < 10:\n",
    "        ball_box[i] = \"White\"\n",
    "    elif (i > 9) and (i < 30):\n",
    "        ball_box[i] = \"Red\"\n",
    "    else:\n",
    "        ball_box[i] = \"Green\"\n",
    "\n",
    "print(ball_box)\n",
    "            \n",
    "# TODO\n",
    "import numpy as np\n",
    "import pandas as pd\n",
    "import random\n",
    "\n",
    "def taking_balls(n = 1000):\n",
    "    counter1 = 0\n",
    "    counter2 = 0\n",
    "    \n",
    "    for i in range(n):\n",
    "        #create an array to store the balls we take\n",
    "        balls_taken = []\n",
    "        \n",
    "        #We take the sample that is 5\n",
    "        for i in range(5):\n",
    "            #Add the random sample of 5/60 to the array\n",
    "            balls_taken.append(ball_box[np.random.randint(0,59)])\n",
    "\n",
    "\n",
    "        #Make the sample from a list to an array to filter it\n",
    "        balls_taken = np.array(balls_taken)\n",
    "\n",
    "        white_balls = np.count_nonzero(balls_taken == \"White\")\n",
    "        red_balls = np.count_nonzero(balls_taken == \"Red\")\n",
    "        green_balls = np.count_nonzero(balls_taken == \"Green\")\n",
    "        \n",
    "        #Step 1\n",
    "        if (white_balls == 3) and (red_balls == 2):\n",
    "            counter1 += 1\n",
    "\n",
    "        #Step 2\n",
    "        elif (white_balls == 5) or (red_balls == 2) or (green_balls == 5):\n",
    "             counter2 += 1\n",
    "    \n",
    "    return counter1 / n, counter2 / n\n",
    "\n",
    "probabilities = taking_balls(n)\n",
    "\n",
    "print(f'The probability of getting 3 white balls and 2 red balls is: {np.round(probabilities[0] * 100, 2)}%')\n",
    "print(f'The probability of getting all the balls of the same color is: {np.round(probabilities[1] * 100, 2)}%')"
   ]
  }
 ],
 "metadata": {
  "kernelspec": {
   "display_name": "Python 3",
   "language": "python",
   "name": "python3"
  },
  "language_info": {
   "codemirror_mode": {
    "name": "ipython",
    "version": 3
   },
   "file_extension": ".py",
   "mimetype": "text/x-python",
   "name": "python",
   "nbconvert_exporter": "python",
   "pygments_lexer": "ipython3",
   "version": "3.11.4"
  }
 },
 "nbformat": 4,
 "nbformat_minor": 5
}
